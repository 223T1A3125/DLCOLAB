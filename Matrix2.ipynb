{
  "nbformat": 4,
  "nbformat_minor": 0,
  "metadata": {
    "colab": {
      "provenance": [],
      "authorship_tag": "ABX9TyNLNfshZib9bYZy4ZdFxHPr",
      "include_colab_link": true
    },
    "kernelspec": {
      "name": "python3",
      "display_name": "Python 3"
    },
    "language_info": {
      "name": "python"
    }
  },
  "cells": [
    {
      "cell_type": "markdown",
      "metadata": {
        "id": "view-in-github",
        "colab_type": "text"
      },
      "source": [
        "<a href=\"https://colab.research.google.com/github/223T1A3125/DLCOLAB/blob/main/Matrix2.ipynb\" target=\"_parent\"><img src=\"https://colab.research.google.com/assets/colab-badge.svg\" alt=\"Open In Colab\"/></a>"
      ]
    },
    {
      "cell_type": "code",
      "source": [
        "#ADDITION OF MATRICES\n",
        "rows=int(input())\n",
        "cols=int(input())\n",
        "mat1=[]\n",
        "mat2=[]\n",
        "for i in range(rows):\n",
        "  arr=list(map(int,input().split()))\n",
        "  mat1.append(arr)\n",
        "for i in range(rows):\n",
        "  arr1=list(map(int,input().split()))\n",
        "  mat2.append(arr1)\n",
        "res=[]\n",
        "for i in range(rows):\n",
        "  row=[]\n",
        "  for j in range(cols):\n",
        "    row.append(mat1[i][j] + mat2[i][j])\n",
        "  res.append(row)\n",
        "print(res)\n"
      ],
      "metadata": {
        "colab": {
          "base_uri": "https://localhost:8080/"
        },
        "id": "NfYsnwK7aCtJ",
        "outputId": "2953d423-99d0-4da1-8abe-e7fcfcf57b7e"
      },
      "execution_count": 12,
      "outputs": [
        {
          "output_type": "stream",
          "name": "stdout",
          "text": [
            "2\n",
            "2\n",
            "1     2\n",
            "3        4\n",
            "5        6\n",
            "7   8\n",
            "[[6, 8], [10, 12]]\n"
          ]
        }
      ]
    }
  ]
}