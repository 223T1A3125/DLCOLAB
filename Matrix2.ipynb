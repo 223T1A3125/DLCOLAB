{
  "nbformat": 4,
  "nbformat_minor": 0,
  "metadata": {
    "colab": {
      "provenance": [],
      "authorship_tag": "ABX9TyMj0OvmOUSXHbdl7QtlnV6X",
      "include_colab_link": true
    },
    "kernelspec": {
      "name": "python3",
      "display_name": "Python 3"
    },
    "language_info": {
      "name": "python"
    }
  },
  "cells": [
    {
      "cell_type": "markdown",
      "metadata": {
        "id": "view-in-github",
        "colab_type": "text"
      },
      "source": [
        "<a href=\"https://colab.research.google.com/github/223T1A3125/maleehanazneenabdul/blob/main/Matrix2.ipynb\" target=\"_parent\"><img src=\"https://colab.research.google.com/assets/colab-badge.svg\" alt=\"Open In Colab\"/></a>"
      ]
    },
    {
      "cell_type": "code",
      "execution_count": 4,
      "metadata": {
        "colab": {
          "base_uri": "https://localhost:8080/"
        },
        "id": "yYJeWQQJKNlV",
        "outputId": "7da89927-7aa2-4e41-b425-0bd4e3b21897"
      },
      "outputs": [
        {
          "output_type": "stream",
          "name": "stdout",
          "text": [
            "3\n",
            "3\n",
            "1 2 3\n",
            "4 5 6\n",
            "7 8 9\n",
            "3 2 1\n",
            "6 5 4\n",
            "9 8 7\n",
            "[[4, 4, 4]]\n",
            "\n",
            "[[4, 4, 4], [10, 10, 10]]\n",
            "\n",
            "[[4, 4, 4], [10, 10, 10], [16, 16, 16]]\n",
            "\n"
          ]
        }
      ],
      "source": [
        "rows=int(input())\n",
        "cols=int(input())\n",
        "mat1=[]\n",
        "mat2=[]\n",
        "for i in range(rows):\n",
        "  arr=list(map(int,input().split()))\n",
        "  mat1.append(arr)\n",
        "for i in range(rows):\n",
        "  arr1=list(map(int,input().split()))\n",
        "  mat2.append(arr1)\n",
        "res=[]\n",
        "for i in range(rows):\n",
        "  row=[]\n",
        "  for j in range(cols):\n",
        "    row.append(mat1[i][j] + mat2[i][j])\n",
        "  res.append(row)\n",
        "  print(res)\n",
        "  print()"
      ]
    }
  ]
}